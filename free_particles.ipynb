{
 "cells": [
  {
   "cell_type": "code",
   "execution_count": 1,
   "metadata": {},
   "outputs": [],
   "source": [
    "import numpy as np\n",
    "import scipy as spe\n",
    "import matplotlib.pyplot as plt"
   ]
  },
  {
   "cell_type": "markdown",
   "metadata": {},
   "source": [
    "### FREE 1D CARTESIAN PARTICLE\n",
    "\n",
    "Let a particle of mass $m$ moving freely in a straight line. This means the particle is subject to a potential $V(x) = 0 \\, \\ \\forall x \\in \\mathbb{R}$. The state of the particle is described by the wavefunction $\\psi \\in \\mathcal{H}=\\mathcal{L}^2(\\mathbb{R})$ and follows the Schrödinger Equation \n",
    "\n",
    "\\begin{equation*}\n",
    "    H \\psi = i \\hbar \\frac{\\partial \\psi}{\\partial t} \\implies \\left(-\\frac{\\hbar^2}{2m}\\nabla^2+V(x)\\right)\\psi = i\\hbar \\frac{\\partial \\psi}{\\partial t} \\implies -\\frac{\\hbar^2}{2m}\\frac{\\partial^2 \\psi}{\\partial x^2}=i\\hbar \\frac{\\partial \\psi}{\\partial t}\n",
    " \\end{equation*}\n",
    "\n",
    "In operator form, we have $L \\psi = 0$, being $L = \\frac{\\hbar^2}{2m}\\frac{\\partial^2}{\\partial x^2}+i\\hbar \\frac{\\partial }{\\partial t} \\implies L$ is a separable linear differential operator. Let us take an Ansatz: \n",
    "$$\\psi(x,t) = \\phi(x)e^{-i\\frac{E}{\\hbar}t}$$\n",
    "\n",
    "Plugging it into Eqn. ($1$), we obtain $\\frac{d^2\\phi}{dx^2}+\\frac{E}{2m \\hbar^2}\\phi = 0$. We can choose a complete basis of orthonormal solutions as $\\{\\frac{1}{2\\pi}e^{ikx}\\} \\ , \\ k \\in \\mathbb{R}$"
   ]
  },
  {
   "cell_type": "code",
   "execution_count": null,
   "metadata": {},
   "outputs": [],
   "source": []
  }
 ],
 "metadata": {
  "kernelspec": {
   "display_name": "Python 3",
   "language": "python",
   "name": "python3"
  },
  "language_info": {
   "codemirror_mode": {
    "name": "ipython",
    "version": 3
   },
   "file_extension": ".py",
   "mimetype": "text/x-python",
   "name": "python",
   "nbconvert_exporter": "python",
   "pygments_lexer": "ipython3",
   "version": "3.10.4"
  }
 },
 "nbformat": 4,
 "nbformat_minor": 2
}
