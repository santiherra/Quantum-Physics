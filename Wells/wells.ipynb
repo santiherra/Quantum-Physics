{
 "cells": [
  {
   "cell_type": "code",
   "execution_count": 1,
   "metadata": {},
   "outputs": [],
   "source": [
    "import numpy as np\n",
    "import numba\n",
    "import matplotlib.pyplot as plt\n",
    "njit = numba.njit "
   ]
  },
  {
   "cell_type": "markdown",
   "metadata": {},
   "source": [
    "## INFINITE SQUARE WELL POTENTIAL:\n",
    "\n",
    "Let us consider a particle subject to an infinite square well potential. There are two main ways of describing this situation. We will do it the following way: The particle's state is restricted to the domain $\\mathcal{L^2}([0, L])$ and with Neumann and Dirichlet boundary conditions $\\varphi(x=0) = \\varphi(x=L)=0$, $\\partial_x\\varphi(x=0) = \\partial_x\\varphi(x=L)=0$. For the region $x \\in [0, L]$, the particle is subject to a potential $V(x) = 0$. Then, the Schrödinger Equation for the stationary states $\\varphi(x)$ reads as:\n",
    "$$\n",
    "\\frac{d^2\\varphi}{dx^2} = -\\frac{2mE}{\\hbar^2}\\varphi \\implies \\frac{d^2\\varphi}{dx^2}+k^2\\varphi = 0\n",
    "$$\n",
    "\n",
    "The independent solutions to this equation are $\\cos(kx)$, and $\\sin(kx)$. Applying the boundary conditions, we obtain the eigenvalues $k = \\frac{\\pi}{L}n \\ , \\ n \\in \\mathbb{N}$ and the complete basis $\\left\\{\\sqrt{\\frac{2}{L}}\\sin \\left(\\frac{\\pi n}{L}x\\right)\\right\\}_{n\\in\\mathbb{N}}$\n",
    "\n",
    "We expand the time dependent solution as a Sine Fourier Series:\n",
    "\\begin{equation}\n",
    "\\phi (x, t ) = \\sqrt{\\frac{2}{L}}\\sum_{n = 0}^{\\infty} v_n(t)\\sin \\left(\\frac{\\pi n}{L}x\\right)\n",
    "\\end{equation}\n",
    "\n",
    "Plugging $(1)$ in time independent Schrödinger Equation, we obtain an ODE for $v(t)$: $\\frac{dv}{dt} = -i\\frac{E_n}{\\hbar}v \\ , \\ E_n = \\frac{\\hbar^2 k_n^2}{2m}$. Consider the particle with initial state $\\psi(x,0) = \\sum_n g_n(x)$ (let us assume it can also be expanded as a Fourier Series). Then, we obtain the initial condition $v_n(t) = c_n \\sqrt{\\frac{2}{L}}\\sin \\left(\\frac{\\pi n}{L}s\\right)$. Then, we finally have \n",
    "\n",
    "$$\n",
    "\\psi(x,t) = \\sqrt{\\frac{2}{L}}\\sum_{n = 0}^{\\infty} c_n\\sin \\left(\\frac{\\pi n}{L}x\\right)e^{-\\frac{i}{\\hbar}E_nt}\n",
    "$$\n"
   ]
  },
  {
   "cell_type": "markdown",
   "metadata": {},
   "source": [
    "### Example: lowest energy modes activated\n",
    "\n",
    "Let the initial state composed by the N lowest energy oscillation modes: \n",
    "$$\n",
    "\\psi(x,0) = \\sqrt{\\frac{2}{N L}} \\sum_{n=1}^N \\sin \\left(\\frac{n \\pi}{L}x\\right)\n",
    "$$\n",
    "\n",
    " Then, its Fourier coefficients are: $c_n = \\sqrt{\\frac{1}{N}} \\ , \\ n = 1,...,N \\ ; \\ c_n = 0 \\ , \\ n > N$\n",
    "\n",
    "$$ \n",
    "\\psi(x,t) = \\sqrt{\\frac{2}{N L}} \\sum_{n=1}^N \\sin \\left(\\frac{n \\pi}{L}x\\right)e^{-i\\frac{\\hbar (\\pi n)^2}{2mL^2}t}\n",
    "$$\n",
    "\n",
    "For ilustrational purposes, we will show the real part of the wavefunction:\n",
    "\n",
    "$$ \n",
    "\\psi_{Re}(x,t) = \\sqrt{\\frac{2}{N L}} \\sum_{n=1}^N \\sin \\left(\\frac{n \\pi}{L}x\\right)\\cos\\left(\\frac{\\hbar (\\pi n)^2}{2mL^2}t\\right)\n",
    "$$"
   ]
  },
  {
   "cell_type": "code",
   "execution_count": 2,
   "metadata": {},
   "outputs": [],
   "source": [
    "@njit\n",
    "def infinitesq(x, t, N, L=1, m=1):\n",
    "    psi = np.zeros(len(x))\n",
    "    for n in range(1, N+1):\n",
    "        for i in range(len(x)):\n",
    "            psi[i] += np.sqrt(2/N*L)*np.sin(np.pi*n*x[i]/L)*np.cos((n*np.pi)**2*t)\n",
    "    return psi"
   ]
  },
  {
   "cell_type": "code",
   "execution_count": 3,
   "metadata": {},
   "outputs": [
    {
     "data": {
      "text/plain": [
       "[<matplotlib.lines.Line2D at 0x1ecac438b80>]"
      ]
     },
     "execution_count": 3,
     "metadata": {},
     "output_type": "execute_result"
    },
    {
     "data": {
      "image/png": "[encoded data removed]",
      "text/plain": [
       "<Figure size 432x288 with 1 Axes>"
      ]
     },
     "metadata": {
      "needs_background": "light"
     },
     "output_type": "display_data"
    }
   ],
   "source": [
    "x = np.linspace(0, 10, 1000)\n",
    "t = np.linspace(0, 10, 100)\n",
    "N = 2\n",
    "\n",
    "psi = lambda t: infinitesq(x, t, N)\n",
    "plt.plot(x, psi(t[2]))"
   ]
  },
  {
   "cell_type": "code",
   "execution_count": null,
   "metadata": {},
   "outputs": [],
   "source": []
  },
  {
   "cell_type": "code",
   "execution_count": null,
   "metadata": {},
   "outputs": [],
   "source": []
  }
 ],
 "metadata": {
  "kernelspec": {
   "display_name": "Python 3",
   "language": "python",
   "name": "python3"
  },
  "language_info": {
   "codemirror_mode": {
    "name": "ipython",
    "version": 3
   },
   "file_extension": ".py",
   "mimetype": "text/x-python",
   "name": "python",
   "nbconvert_exporter": "python",
   "pygments_lexer": "ipython3",
   "version": "3.10.4"
  }
 },
 "nbformat": 4,
 "nbformat_minor": 2
}
